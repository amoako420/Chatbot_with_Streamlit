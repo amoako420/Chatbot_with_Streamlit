{
 "cells": [
  {
   "cell_type": "code",
   "execution_count": null,
   "id": "dec82457",
   "metadata": {},
   "outputs": [],
   "source": [
    "from google import genai\n",
    "from google.genai import types\n",
    "import markdown\n",
    "from dotenv import load_dotenv\n",
    "import os\n",
    "\n",
    "load_dotenv()\n",
    "API_KEY = os.getenv(\"API_KEY\")\n",
    "client = genai.Client(api_key=API_KEY)"
   ]
  },
  {
   "cell_type": "code",
   "execution_count": 4,
   "id": "f8159f94",
   "metadata": {},
   "outputs": [
    {
     "name": "stdout",
     "output_type": "stream",
     "text": [
      "**Occam's Razor** is a philosophical principle and problem-solving heuristic that states:\n",
      "\n",
      "**\"Among competing hypotheses, the one with the fewest assumptions should be selected.\"**\n",
      "\n",
      "More simply, it suggests that **the simplest explanation is usually the best one.**\n",
      "\n",
      "It's not a scientific law or a guarantee that the simplest explanation is always correct, but rather a guiding principle for reasoning and making choices when confronted with multiple possibilities. It encourages intellectual parsimony – being economical with your explanations and avoiding unnecessary complexity.\n",
      "\n",
      "The principle is attributed to William of Ockham (c. 1287–1347), a Franciscan friar and logician, though he never wrote it in the exact words \"Occam's Razor.\" His philosophy emphasized avoiding the multiplication of entities without necessity.\n",
      "\n",
      "**Key ideas behind Occam's Razor:**\n",
      "\n",
      "*   **Fewer Assumptions:** The more assumptions you have to make, the less likely the explanation is to be true (or at least, the more uncertain it becomes).\n",
      "*   **Avoidance of Complexity:** Unnecessary complexity can obscure the truth and make solutions harder to find or verify.\n",
      "*   **Testability:** Simpler hypotheses are often easier to test and falsify.\n",
      "\n",
      "---\n",
      "\n",
      "**Simple, Everyday Example:**\n",
      "\n",
      "Imagine you come home from work, and you find a half-eaten cookie on the kitchen counter, even though you were sure the cookie jar was full when you left that morning.\n",
      "\n",
      "**Scenario 1: Complex Explanation**\n",
      "You might think: \"Perhaps during the day, a rogue squirrel managed to sneak into the house, open the child-proof cookie jar, take out a cookie, eat half of it, and then meticulously put the lid back on before escaping through a tiny, unnoticed crack in the window.\"\n",
      "\n",
      "**Scenario 2: Simple Explanation**\n",
      "You might think: \"My spouse (or child, or roommate) came home earlier, got hungry, took a cookie, and left it unfinished on the counter.\"\n",
      "\n",
      "**Applying Occam's Razor:**\n",
      "\n",
      "Occam's Razor would strongly favor **Scenario 2 (the simple explanation)**.\n",
      "\n",
      "*   **Scenario 1** requires many more assumptions: a very clever and dexterous squirrel, an unnoticed entry/exit point, the squirrel's ability to operate a child-proof lid, and an unlikely decision to leave half a cookie.\n",
      "*   **Scenario 2** requires far fewer assumptions: simply that another person in your household ate a cookie, which is a very common and logical occurrence.\n",
      "\n",
      "While the squirrel scenario is *theoretically possible*, it's highly improbable and introduces many unnecessary complexities. Occam's Razor suggests that the most straightforward and least imaginative explanation is usually the correct one to investigate first.\n"
     ]
    }
   ],
   "source": [
    "prompt = \"Explain the concept of Occam's Razor and provide a simple, everyday example.\"\n",
    "\n",
    "\n",
    "response = client.models.generate_content(\n",
    "    model=\"gemini-2.5-flash-preview-05-20\",\n",
    "    contents=prompt\n",
    ")\n",
    "print(response.text)"
   ]
  },
  {
   "cell_type": "code",
   "execution_count": 5,
   "id": "e52b2adb",
   "metadata": {},
   "outputs": [
    {
     "name": "stdout",
     "output_type": "stream",
     "text": [
      "## Occam's Razor Explained\n",
      "\n",
      "Occam's Razor, named after the 14th-century English friar William of Ockham, is a **problem-solving principle** that states:\n",
      "\n",
      "**\"Among competing hypotheses, the one with the fewest assumptions should be selected.\"**\n",
      "\n",
      "In simpler terms, when you have multiple explanations for something, the simplest explanation is usually the best. It suggests we should eliminate unnecessary complexities and assumptions.  The most likely explanation is the one that requires the fewest leaps of faith or the fewest extra pieces of information.\n",
      "\n",
      "It's not a law, but a **heuristic** – a rule of thumb or a helpful guideline. It doesn't guarantee the correct answer, but it often leads you in the right direction by focusing on the most likely and least complicated scenarios.\n",
      "\n",
      "## Everyday Example: Your Missing Keys\n",
      "\n",
      "Let's say you can't find your car keys. Here are a few possible explanations:\n",
      "\n",
      "*   **Hypothesis 1 (Simple):** You simply misplaced them. You've been rushing around this morning, and they're probably somewhere you usually put them (coat pocket, desk, etc.).\n",
      "*   **Hypothesis 2 (More Complex):** Someone broke into your house, stole your keys (but nothing else), and then left.\n",
      "*   **Hypothesis 3 (Even More Complex):** A mischievous fairy came into your house while you were asleep, swapped your keys for a look-alike, and then flew away.\n",
      "\n",
      "**Applying Occam's Razor:**\n",
      "\n",
      "Hypothesis 1 (misplaced keys) is the simplest. It requires the fewest assumptions:\n",
      "\n",
      "*   You were rushed.\n",
      "*   You might have forgotten where you put them.\n",
      "\n",
      "Hypothesis 2 (burglary) is more complex:\n",
      "\n",
      "*   Someone broke into your house.\n",
      "*   They only wanted your keys.\n",
      "*   They didn't take anything else.\n",
      "\n",
      "Hypothesis 3 (fairy) is the most complex:\n",
      "\n",
      "*   Fairies exist.\n",
      "*   Fairies are capable of entering your house unseen.\n",
      "*   Fairies are interested in your keys.\n",
      "*   They have the ability to swap items.\n",
      "\n",
      "**The Outcome:**\n",
      "\n",
      "Using Occam's Razor, you'd likely start by searching for your keys where you usually put them (Hypothesis 1). You'd check pockets, your desk, and other likely spots. If you can't find them there, you might expand your search, but you wouldn't immediately jump to the burglary or fairy scenarios. You'd likely check more obvious places and consider if you really *did* lock your car before concluding that it was stolen or you have supernatural help.\n",
      "\n",
      "**In Conclusion:**\n",
      "\n",
      "Occam's Razor encourages us to choose the explanation that requires the fewest assumptions and provides the simplest and most likely explanation, making problem-solving more efficient and focusing our efforts where they're most likely to yield results. It's a useful tool in everyday life and in scientific inquiry alike.\n",
      "\n"
     ]
    }
   ],
   "source": [
    "prompt = \"Explain the concept of Occam's Razor and provide a simple, everyday example.\"\n",
    "\n",
    "\n",
    "response = client.models.generate_content(\n",
    "    model=\"gemini-2.0-flash-lite\",\n",
    "    contents=prompt\n",
    ")\n",
    "print(response.text)"
   ]
  },
  {
   "cell_type": "code",
   "execution_count": 7,
   "id": "d4bd4c81",
   "metadata": {},
   "outputs": [
    {
     "name": "stdout",
     "output_type": "stream",
     "text": [
      "Here's how to solve the logic puzzle:\n",
      "\n",
      "**1. Understanding the Problem**\n",
      "\n",
      "*   We know the boxes are mislabeled. This is crucial.\n",
      "*   We need to figure out a strategy to deduce the correct contents of each box by drawing only one fruit.\n",
      "\n",
      "**2. The Key Deduction**\n",
      "\n",
      "The box labeled \"Apples AND Oranges\" is the key. Because all the labels are incorrect, this box *must* contain either only apples or only oranges.\n",
      "\n",
      "**3. The Strategy**\n",
      "\n",
      "1.  **Choose the box labeled \"Apples AND Oranges.\"**\n",
      "2.  **Draw one fruit from this box.**\n",
      "3.  **Here's how to determine the correct labels based on your draw:**\n",
      "\n",
      "    *   **If you draw an apple:**\n",
      "        *   This box *must* be the \"Apples\" box (since it has apples).\n",
      "        *   The box labeled \"Oranges\" cannot contain only oranges (because all labels are wrong), and cannot contain only apples (because you know where those are), so the \"Oranges\" box must have both apples and oranges.\n",
      "        *   Therefore, the remaining box (labeled \"Apples\") must be the \"Oranges\" box.\n",
      "\n",
      "    *   **If you draw an orange:**\n",
      "        *   This box *must* be the \"Oranges\" box.\n",
      "        *   The box labeled \"Apples\" cannot contain only apples (because all labels are wrong), and cannot contain only oranges (because you know where those are), so the \"Apples\" box must have both apples and oranges.\n",
      "        *   Therefore, the remaining box (labeled \"Oranges\") must be the \"Apples\" box.\n",
      "\n",
      "**4. Correct Solution**\n",
      "\n",
      "You must draw a fruit from the box labeled \"Apples AND Oranges.\"\n",
      "\n"
     ]
    }
   ],
   "source": [
    "prompt = \"\"\"Solve this logic puzzle and explain your reasoning step-by-step:\n",
    "        There are three boxes. One contains only apples, one contains only oranges,\n",
    "        and one contains both apples and oranges. The boxes have been incorrectly\n",
    "        labeled such that no label is correct. You are allowed to draw one fruit\n",
    "        from only one box of your choosing (without looking inside). Which box\n",
    "        would you draw from to correctly label all boxes, and why?\"\"\"\n",
    "\n",
    "response = client.models.generate_content(\n",
    "    model = \"gemini-2.0-flash-lite\",\n",
    "    contents= prompt\n",
    ")\n",
    "\n",
    "print(response.text)"
   ]
  },
  {
   "cell_type": "code",
   "execution_count": null,
   "id": "b5d5f526",
   "metadata": {},
   "outputs": [],
   "source": []
  }
 ],
 "metadata": {
  "kernelspec": {
   "display_name": ".venv",
   "language": "python",
   "name": "python3"
  },
  "language_info": {
   "codemirror_mode": {
    "name": "ipython",
    "version": 3
   },
   "file_extension": ".py",
   "mimetype": "text/x-python",
   "name": "python",
   "nbconvert_exporter": "python",
   "pygments_lexer": "ipython3",
   "version": "3.12.10"
  }
 },
 "nbformat": 4,
 "nbformat_minor": 5
}
